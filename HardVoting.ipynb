{
 "cells": [
  {
   "cell_type": "code",
   "execution_count": 1,
   "metadata": {},
   "outputs": [],
   "source": [
    "import numpy as np\n",
    "import pandas as pd\n",
    "import torch\n",
    "import os\n",
    "\n",
    "SUBMISSION_DIR = os.path.join(os.path.abspath(os.getcwd()), 'submissions')"
   ]
  },
  {
   "cell_type": "code",
   "execution_count": 2,
   "metadata": {},
   "outputs": [],
   "source": [
    "v0 = pd.read_csv(os.path.join(SUBMISSION_DIR, 'bert.csv'))\n",
    "v1 = pd.read_csv(os.path.join(SUBMISSION_DIR, 'bert_all.csv'))\n",
    "v2 = pd.read_csv(os.path.join(SUBMISSION_DIR, 'electra.csv'))\n",
    "v3 = pd.read_csv(os.path.join(SUBMISSION_DIR, 'electra_all.csv'))\n",
    "v4 = pd.read_csv(os.path.join(SUBMISSION_DIR, 'funnel.csv'))\n",
    "\n",
    "soft = pd.read_csv(os.path.join(SUBMISSION_DIR, 'soft.csv')) # bert, bert_all, electra_all, funnel"
   ]
  },
  {
   "cell_type": "code",
   "execution_count": 3,
   "metadata": {
    "scrolled": true
   },
   "outputs": [
    {
     "data": {
      "text/html": [
       "<div>\n",
       "<style scoped>\n",
       "    .dataframe tbody tr th:only-of-type {\n",
       "        vertical-align: middle;\n",
       "    }\n",
       "\n",
       "    .dataframe tbody tr th {\n",
       "        vertical-align: top;\n",
       "    }\n",
       "\n",
       "    .dataframe thead th {\n",
       "        text-align: right;\n",
       "    }\n",
       "</style>\n",
       "<table border=\"1\" class=\"dataframe\">\n",
       "  <thead>\n",
       "    <tr style=\"text-align: right;\">\n",
       "      <th></th>\n",
       "      <th>conv_num</th>\n",
       "      <th>intent</th>\n",
       "    </tr>\n",
       "  </thead>\n",
       "  <tbody>\n",
       "    <tr>\n",
       "      <td>0</td>\n",
       "      <td>9710</td>\n",
       "      <td>AS_날짜_질문</td>\n",
       "    </tr>\n",
       "    <tr>\n",
       "      <td>1</td>\n",
       "      <td>9711</td>\n",
       "      <td>AS_날짜_질문</td>\n",
       "    </tr>\n",
       "    <tr>\n",
       "      <td>2</td>\n",
       "      <td>9728</td>\n",
       "      <td>AS_날짜_질문</td>\n",
       "    </tr>\n",
       "    <tr>\n",
       "      <td>3</td>\n",
       "      <td>9737</td>\n",
       "      <td>AS_날짜_질문</td>\n",
       "    </tr>\n",
       "    <tr>\n",
       "      <td>4</td>\n",
       "      <td>11050</td>\n",
       "      <td>AS_날짜_질문</td>\n",
       "    </tr>\n",
       "  </tbody>\n",
       "</table>\n",
       "</div>"
      ],
      "text/plain": [
       "   conv_num    intent\n",
       "0      9710  AS_날짜_질문\n",
       "1      9711  AS_날짜_질문\n",
       "2      9728  AS_날짜_질문\n",
       "3      9737  AS_날짜_질문\n",
       "4     11050  AS_날짜_질문"
      ]
     },
     "execution_count": 3,
     "metadata": {},
     "output_type": "execute_result"
    }
   ],
   "source": [
    "v0.head()"
   ]
  },
  {
   "cell_type": "code",
   "execution_count": 4,
   "metadata": {},
   "outputs": [
    {
     "name": "stdout",
     "output_type": "stream",
     "text": [
      "587\n"
     ]
    }
   ],
   "source": [
    "from collections import Counter\n",
    "\n",
    "all_predictions = []\n",
    "cnt = 0\n",
    "for i in range(len(v0)):\n",
    "    outputs = [v0[\"intent\"][i], v1[\"intent\"][i], v2[\"intent\"][i], v3[\"intent\"][i], v4[\"intent\"][i]]\n",
    "\n",
    "    common = Counter(outputs).most_common()\n",
    "    \n",
    "    if len(common) == 1:\n",
    "        ans = Counter(outputs).most_common(1)\n",
    "        all_predictions.append(ans[0][0])\n",
    "    else:\n",
    "        if common[0][1] == common[1][1]:\n",
    "            ans = soft[\"intent\"][i]\n",
    "            cnt += 1\n",
    "            all_predictions.append(ans)\n",
    "        else:\n",
    "            ans = Counter(outputs).most_common(1)\n",
    "            all_predictions.append(ans[0][0])\n",
    "            \n",
    "print(cnt)"
   ]
  },
  {
   "cell_type": "code",
   "execution_count": 5,
   "metadata": {},
   "outputs": [],
   "source": [
    "pred_df = pd.DataFrame()\n",
    "pred_df['conv_num'] = v0.conv_num\n",
    "pred_df['intent'] = all_predictions"
   ]
  },
  {
   "cell_type": "code",
   "execution_count": 6,
   "metadata": {},
   "outputs": [],
   "source": [
    "import os\n",
    "pred_df.to_csv(os.path.join(SUBMISSION_DIR, f'result.csv'),index=False)"
   ]
  }
 ],
 "metadata": {
  "kernelspec": {
   "display_name": "Python 3",
   "language": "python",
   "name": "python3"
  },
  "language_info": {
   "codemirror_mode": {
    "name": "ipython",
    "version": 3
   },
   "file_extension": ".py",
   "mimetype": "text/x-python",
   "name": "python",
   "nbconvert_exporter": "python",
   "pygments_lexer": "ipython3",
   "version": "3.6.9"
  }
 },
 "nbformat": 4,
 "nbformat_minor": 2
}
